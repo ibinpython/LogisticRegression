{
 "cells": [
  {
   "cell_type": "markdown",
   "metadata": {},
   "source": [
    "## 逻辑回归-线性不可分案例\n",
    "## 案例：设想你是工厂的生产主管，你要决定是否芯片要被接受或抛弃\n",
    "## 数据集：ex2data2.txt,芯片在两次测试中的测试结果"
   ]
  },
  {
   "cell_type": "code",
   "execution_count": 1,
   "metadata": {},
   "outputs": [],
   "source": [
    "import numpy as np\n",
    "import pandas as pd\n",
    "import matplotlib.pyplot as plt"
   ]
  },
  {
   "cell_type": "code",
   "execution_count": 2,
   "metadata": {},
   "outputs": [
    {
     "data": {
      "text/html": [
       "<div>\n",
       "<style scoped>\n",
       "    .dataframe tbody tr th:only-of-type {\n",
       "        vertical-align: middle;\n",
       "    }\n",
       "\n",
       "    .dataframe tbody tr th {\n",
       "        vertical-align: top;\n",
       "    }\n",
       "\n",
       "    .dataframe thead th {\n",
       "        text-align: right;\n",
       "    }\n",
       "</style>\n",
       "<table border=\"1\" class=\"dataframe\">\n",
       "  <thead>\n",
       "    <tr style=\"text-align: right;\">\n",
       "      <th></th>\n",
       "      <th>Test 1</th>\n",
       "      <th>Test 2</th>\n",
       "      <th>Accepted</th>\n",
       "    </tr>\n",
       "  </thead>\n",
       "  <tbody>\n",
       "    <tr>\n",
       "      <th>0</th>\n",
       "      <td>0.051267</td>\n",
       "      <td>0.69956</td>\n",
       "      <td>1</td>\n",
       "    </tr>\n",
       "    <tr>\n",
       "      <th>1</th>\n",
       "      <td>-0.092742</td>\n",
       "      <td>0.68494</td>\n",
       "      <td>1</td>\n",
       "    </tr>\n",
       "    <tr>\n",
       "      <th>2</th>\n",
       "      <td>-0.213710</td>\n",
       "      <td>0.69225</td>\n",
       "      <td>1</td>\n",
       "    </tr>\n",
       "    <tr>\n",
       "      <th>3</th>\n",
       "      <td>-0.375000</td>\n",
       "      <td>0.50219</td>\n",
       "      <td>1</td>\n",
       "    </tr>\n",
       "    <tr>\n",
       "      <th>4</th>\n",
       "      <td>-0.513250</td>\n",
       "      <td>0.46564</td>\n",
       "      <td>1</td>\n",
       "    </tr>\n",
       "  </tbody>\n",
       "</table>\n",
       "</div>"
      ],
      "text/plain": [
       "     Test 1   Test 2  Accepted\n",
       "0  0.051267  0.69956         1\n",
       "1 -0.092742  0.68494         1\n",
       "2 -0.213710  0.69225         1\n",
       "3 -0.375000  0.50219         1\n",
       "4 -0.513250  0.46564         1"
      ]
     },
     "execution_count": 2,
     "metadata": {},
     "output_type": "execute_result"
    }
   ],
   "source": [
    "path = 'ex2data2.txt'\n",
    "data = pd.read_csv(path, names=['Test 1', 'Test 2', 'Accepted'])\n",
    "data.head()"
   ]
  },
  {
   "cell_type": "code",
   "execution_count": 3,
   "metadata": {
    "scrolled": true
   },
   "outputs": [
    {
     "data": {
      "image/png": "[encoded data removed]",
      "text/plain": [
       "<Figure size 432x288 with 1 Axes>"
      ]
     },
     "metadata": {
      "needs_background": "light"
     },
     "output_type": "display_data"
    }
   ],
   "source": [
    "fig,ax = plt.subplots()\n",
    "ax.scatter(data[data['Accepted']==0]['Test 1'],data[data['Accepted']==0]['Test 2'],c='r',marker='x',label='y=0')\n",
    "ax.scatter(data[data['Accepted']==1]['Test 1'],data[data['Accepted']==1]['Test 2'],c='b',marker='o',label='y=1')\n",
    "ax.legend()\n",
    "ax.set(xlabel='Test1',\n",
    "          ylabel='Test2')\n",
    "plt.show()"
   ]
  },
  {
   "cell_type": "markdown",
   "metadata": {},
   "source": [
    "## 特征映射"
   ]
  },
  {
   "cell_type": "code",
   "execution_count": 4,
   "metadata": {},
   "outputs": [],
   "source": [
    "def feature_mapping(x1,x2,power):\n",
    "    data = {}\n",
    "    \n",
    "    for i in np.arange(power+1):\n",
    "        for j in np.arange(i + 1):\n",
    "            data['F{}{}'.format(i-j,j)] = np.power(x1,i-j) * np.power(x2,j)\n",
    "            \n",
    "    return pd.DataFrame(data) \n",
    "                 "
   ]
  },
  {
   "cell_type": "code",
   "execution_count": 5,
   "metadata": {},
   "outputs": [],
   "source": [
    "x1 = data['Test 1']\n",
    "x2 = data['Test 2']"
   ]
  },
  {
   "cell_type": "code",
   "execution_count": 6,
   "metadata": {},
   "outputs": [],
   "source": [
    "data2 = feature_mapping(x1,x2,6)"
   ]
  },
  {
   "cell_type": "code",
   "execution_count": 7,
   "metadata": {
    "scrolled": true
   },
   "outputs": [
    {
     "data": {
      "text/html": [
       "<div>\n",
       "<style scoped>\n",
       "    .dataframe tbody tr th:only-of-type {\n",
       "        vertical-align: middle;\n",
       "    }\n",
       "\n",
       "    .dataframe tbody tr th {\n",
       "        vertical-align: top;\n",
       "    }\n",
       "\n",
       "    .dataframe thead th {\n",
       "        text-align: right;\n",
       "    }\n",
       "</style>\n",
       "<table border=\"1\" class=\"dataframe\">\n",
       "  <thead>\n",
       "    <tr style=\"text-align: right;\">\n",
       "      <th></th>\n",
       "      <th>F00</th>\n",
       "      <th>F10</th>\n",
       "      <th>F01</th>\n",
       "      <th>F20</th>\n",
       "      <th>F11</th>\n",
       "      <th>F02</th>\n",
       "      <th>F30</th>\n",
       "      <th>F21</th>\n",
       "      <th>F12</th>\n",
       "      <th>F03</th>\n",
       "      <th>...</th>\n",
       "      <th>F23</th>\n",
       "      <th>F14</th>\n",
       "      <th>F05</th>\n",
       "      <th>F60</th>\n",
       "      <th>F51</th>\n",
       "      <th>F42</th>\n",
       "      <th>F33</th>\n",
       "      <th>F24</th>\n",
       "      <th>F15</th>\n",
       "      <th>F06</th>\n",
       "    </tr>\n",
       "  </thead>\n",
       "  <tbody>\n",
       "    <tr>\n",
       "      <th>0</th>\n",
       "      <td>1.0</td>\n",
       "      <td>0.051267</td>\n",
       "      <td>0.69956</td>\n",
       "      <td>0.002628</td>\n",
       "      <td>0.035864</td>\n",
       "      <td>0.489384</td>\n",
       "      <td>0.000135</td>\n",
       "      <td>0.001839</td>\n",
       "      <td>0.025089</td>\n",
       "      <td>0.342354</td>\n",
       "      <td>...</td>\n",
       "      <td>0.000900</td>\n",
       "      <td>0.012278</td>\n",
       "      <td>0.167542</td>\n",
       "      <td>1.815630e-08</td>\n",
       "      <td>2.477505e-07</td>\n",
       "      <td>0.000003</td>\n",
       "      <td>0.000046</td>\n",
       "      <td>0.000629</td>\n",
       "      <td>0.008589</td>\n",
       "      <td>0.117206</td>\n",
       "    </tr>\n",
       "    <tr>\n",
       "      <th>1</th>\n",
       "      <td>1.0</td>\n",
       "      <td>-0.092742</td>\n",
       "      <td>0.68494</td>\n",
       "      <td>0.008601</td>\n",
       "      <td>-0.063523</td>\n",
       "      <td>0.469143</td>\n",
       "      <td>-0.000798</td>\n",
       "      <td>0.005891</td>\n",
       "      <td>-0.043509</td>\n",
       "      <td>0.321335</td>\n",
       "      <td>...</td>\n",
       "      <td>0.002764</td>\n",
       "      <td>-0.020412</td>\n",
       "      <td>0.150752</td>\n",
       "      <td>6.362953e-07</td>\n",
       "      <td>-4.699318e-06</td>\n",
       "      <td>0.000035</td>\n",
       "      <td>-0.000256</td>\n",
       "      <td>0.001893</td>\n",
       "      <td>-0.013981</td>\n",
       "      <td>0.103256</td>\n",
       "    </tr>\n",
       "    <tr>\n",
       "      <th>2</th>\n",
       "      <td>1.0</td>\n",
       "      <td>-0.213710</td>\n",
       "      <td>0.69225</td>\n",
       "      <td>0.045672</td>\n",
       "      <td>-0.147941</td>\n",
       "      <td>0.479210</td>\n",
       "      <td>-0.009761</td>\n",
       "      <td>0.031616</td>\n",
       "      <td>-0.102412</td>\n",
       "      <td>0.331733</td>\n",
       "      <td>...</td>\n",
       "      <td>0.015151</td>\n",
       "      <td>-0.049077</td>\n",
       "      <td>0.158970</td>\n",
       "      <td>9.526844e-05</td>\n",
       "      <td>-3.085938e-04</td>\n",
       "      <td>0.001000</td>\n",
       "      <td>-0.003238</td>\n",
       "      <td>0.010488</td>\n",
       "      <td>-0.033973</td>\n",
       "      <td>0.110047</td>\n",
       "    </tr>\n",
       "    <tr>\n",
       "      <th>3</th>\n",
       "      <td>1.0</td>\n",
       "      <td>-0.375000</td>\n",
       "      <td>0.50219</td>\n",
       "      <td>0.140625</td>\n",
       "      <td>-0.188321</td>\n",
       "      <td>0.252195</td>\n",
       "      <td>-0.052734</td>\n",
       "      <td>0.070620</td>\n",
       "      <td>-0.094573</td>\n",
       "      <td>0.126650</td>\n",
       "      <td>...</td>\n",
       "      <td>0.017810</td>\n",
       "      <td>-0.023851</td>\n",
       "      <td>0.031940</td>\n",
       "      <td>2.780914e-03</td>\n",
       "      <td>-3.724126e-03</td>\n",
       "      <td>0.004987</td>\n",
       "      <td>-0.006679</td>\n",
       "      <td>0.008944</td>\n",
       "      <td>-0.011978</td>\n",
       "      <td>0.016040</td>\n",
       "    </tr>\n",
       "    <tr>\n",
       "      <th>4</th>\n",
       "      <td>1.0</td>\n",
       "      <td>-0.513250</td>\n",
       "      <td>0.46564</td>\n",
       "      <td>0.263426</td>\n",
       "      <td>-0.238990</td>\n",
       "      <td>0.216821</td>\n",
       "      <td>-0.135203</td>\n",
       "      <td>0.122661</td>\n",
       "      <td>-0.111283</td>\n",
       "      <td>0.100960</td>\n",
       "      <td>...</td>\n",
       "      <td>0.026596</td>\n",
       "      <td>-0.024128</td>\n",
       "      <td>0.021890</td>\n",
       "      <td>1.827990e-02</td>\n",
       "      <td>-1.658422e-02</td>\n",
       "      <td>0.015046</td>\n",
       "      <td>-0.013650</td>\n",
       "      <td>0.012384</td>\n",
       "      <td>-0.011235</td>\n",
       "      <td>0.010193</td>\n",
       "    </tr>\n",
       "  </tbody>\n",
       "</table>\n",
       "<p>5 rows × 28 columns</p>\n",
       "</div>"
      ],
      "text/plain": [
       "   F00       F10      F01       F20       F11       F02       F30       F21  \\\n",
       "0  1.0  0.051267  0.69956  0.002628  0.035864  0.489384  0.000135  0.001839   \n",
       "1  1.0 -0.092742  0.68494  0.008601 -0.063523  0.469143 -0.000798  0.005891   \n",
       "2  1.0 -0.213710  0.69225  0.045672 -0.147941  0.479210 -0.009761  0.031616   \n",
       "3  1.0 -0.375000  0.50219  0.140625 -0.188321  0.252195 -0.052734  0.070620   \n",
       "4  1.0 -0.513250  0.46564  0.263426 -0.238990  0.216821 -0.135203  0.122661   \n",
       "\n",
       "        F12       F03  ...       F23       F14       F05           F60  \\\n",
       "0  0.025089  0.342354  ...  0.000900  0.012278  0.167542  1.815630e-08   \n",
       "1 -0.043509  0.321335  ...  0.002764 -0.020412  0.150752  6.362953e-07   \n",
       "2 -0.102412  0.331733  ...  0.015151 -0.049077  0.158970  9.526844e-05   \n",
       "3 -0.094573  0.126650  ...  0.017810 -0.023851  0.031940  2.780914e-03   \n",
       "4 -0.111283  0.100960  ...  0.026596 -0.024128  0.021890  1.827990e-02   \n",
       "\n",
       "            F51       F42       F33       F24       F15       F06  \n",
       "0  2.477505e-07  0.000003  0.000046  0.000629  0.008589  0.117206  \n",
       "1 -4.699318e-06  0.000035 -0.000256  0.001893 -0.013981  0.103256  \n",
       "2 -3.085938e-04  0.001000 -0.003238  0.010488 -0.033973  0.110047  \n",
       "3 -3.724126e-03  0.004987 -0.006679  0.008944 -0.011978  0.016040  \n",
       "4 -1.658422e-02  0.015046 -0.013650  0.012384 -0.011235  0.010193  \n",
       "\n",
       "[5 rows x 28 columns]"
      ]
     },
     "execution_count": 7,
     "metadata": {},
     "output_type": "execute_result"
    }
   ],
   "source": [
    "data2.head()"
   ]
  },
  {
   "cell_type": "markdown",
   "metadata": {},
   "source": [
    "## 构造数据集"
   ]
  },
  {
   "cell_type": "code",
   "execution_count": 8,
   "metadata": {},
   "outputs": [],
   "source": [
    "X = data2.values"
   ]
  },
  {
   "cell_type": "code",
   "execution_count": 9,
   "metadata": {},
   "outputs": [
    {
     "data": {
      "text/plain": [
       "(118, 28)"
      ]
     },
     "execution_count": 9,
     "metadata": {},
     "output_type": "execute_result"
    }
   ],
   "source": [
    "X.shape"
   ]
  },
  {
   "cell_type": "code",
   "execution_count": 10,
   "metadata": {},
   "outputs": [],
   "source": [
    "y = data.iloc[:,-1].values"
   ]
  },
  {
   "cell_type": "code",
   "execution_count": 11,
   "metadata": {},
   "outputs": [
    {
     "data": {
      "text/plain": [
       "(118, 1)"
      ]
     },
     "execution_count": 11,
     "metadata": {},
     "output_type": "execute_result"
    }
   ],
   "source": [
    "y = y.reshape(len(y),1)\n",
    "y.shape"
   ]
  },
  {
   "cell_type": "markdown",
   "metadata": {},
   "source": [
    "## 损失函数"
   ]
  },
  {
   "cell_type": "code",
   "execution_count": 12,
   "metadata": {},
   "outputs": [],
   "source": [
    "def sigmoid(z):\n",
    "    return 1/(1+np.exp(-z))"
   ]
  },
  {
   "cell_type": "code",
   "execution_count": 13,
   "metadata": {},
   "outputs": [],
   "source": [
    "def costFunction(X,y,theta,lamda):\n",
    "    A = sigmoid(X@theta)\n",
    "    \n",
    "    first = y*np.log(A)\n",
    "    second = (1-y) * np.log(1-A)\n",
    "    \n",
    "    reg = np.sum(np.power(theta[1:],2)) * (lamda / (2 * len(X)))\n",
    "    \n",
    "    return -np.sum(first + second ) / len(X) + reg"
   ]
  },
  {
   "cell_type": "code",
   "execution_count": 14,
   "metadata": {},
   "outputs": [
    {
     "data": {
      "text/plain": [
       "(28, 1)"
      ]
     },
     "execution_count": 14,
     "metadata": {},
     "output_type": "execute_result"
    }
   ],
   "source": [
    "theta = np.zeros((28,1))\n",
    "theta.shape"
   ]
  },
  {
   "cell_type": "code",
   "execution_count": 15,
   "metadata": {},
   "outputs": [],
   "source": [
    "lamda = 1"
   ]
  },
  {
   "cell_type": "code",
   "execution_count": 16,
   "metadata": {},
   "outputs": [
    {
     "name": "stdout",
     "output_type": "stream",
     "text": [
      "0.6931471805599454\n"
     ]
    }
   ],
   "source": [
    "cost_init = costFunction(X,y,theta,lamda)\n",
    "print(cost_init)"
   ]
  },
  {
   "cell_type": "markdown",
   "metadata": {},
   "source": [
    "## 梯度下降函数"
   ]
  },
  {
   "cell_type": "code",
   "execution_count": 17,
   "metadata": {},
   "outputs": [],
   "source": [
    "def gradientDescent(X,y,theta,alpha,iters,lamda):\n",
    "    \n",
    "    costs = []\n",
    "    \n",
    "    for i in range(iters):\n",
    "        \n",
    "        reg = theta[1:] * (lamda / len(X))\n",
    "        reg = np.insert(reg,0,values=0,axis=0)\n",
    "        \n",
    "        theta = theta - (X.T@(sigmoid(X@theta) - y)) * alpha / len(X) -reg\n",
    "        cost = costFunction(X,y,theta,lamda)\n",
    "        costs.append(cost)\n",
    "        \n",
    "        if i % 1000 == 0:\n",
    "            print(cost)\n",
    "            \n",
    "    return theta,costs"
   ]
  },
  {
   "cell_type": "code",
   "execution_count": 18,
   "metadata": {},
   "outputs": [],
   "source": [
    "alpha = 0.001\n",
    "iters = 200000\n",
    "# lamda = 0.001\n",
    "lamda = 0.0001"
   ]
  },
  {
   "cell_type": "code",
   "execution_count": 19,
   "metadata": {},
   "outputs": [
    {
     "name": "stdout",
     "output_type": "stream",
     "text": [
      "0.6931343807989365\n",
      "0.6818251295520225\n",
      "0.6726123504198571\n",
      "0.6646681741522373\n",
      "0.657556742954012\n",
      "0.6510397720168815\n",
      "0.6449793450420283\n",
      "0.6392897182114605\n",
      "0.633913310441887\n",
      "0.6288085690355281\n",
      "0.6239436860150068\n",
      "0.6192932241718918\n",
      "0.6148362129205163\n",
      "0.6105550043294182\n",
      "0.6064345360335888\n",
      "0.6024618224671804\n",
      "0.5986255821394177\n",
      "0.5949159516960192\n",
      "0.591324259260066\n",
      "0.5878428407752999\n",
      "0.5844648890518862\n",
      "0.5811843285364423\n",
      "0.5779957107813518\n",
      "0.5748941268155097\n",
      "0.5718751334442831\n",
      "0.568934691097483\n",
      "0.5660691112887476\n",
      "0.5632750120964555\n",
      "0.560549280353228\n",
      "0.5578890394557677\n",
      "0.555291621890765\n",
      "0.5527545457241781\n",
      "0.5502754944264734\n",
      "0.547852299510228\n",
      "0.5454829255426336\n",
      "0.5431654571670084\n",
      "0.5408980878269398\n",
      "0.5386791099362078\n",
      "0.5365069062789107\n",
      "0.5343799424586224\n",
      "0.5322967602441216\n",
      "0.5302559716832272\n",
      "0.5282562538763249\n",
      "0.5262963443179683\n",
      "0.5243750367289971\n",
      "0.5224911773134182\n",
      "0.5206436613842063\n",
      "0.5188314303105062\n",
      "0.5170534687457308\n",
      "0.5153088021019608\n",
      "0.5135964942410272\n",
      "0.5119156453568808\n",
      "0.5102653900274048\n",
      "0.5086448954168467\n",
      "0.5070533596126121\n",
      "0.5054900100823261\n",
      "0.5039541022389307\n",
      "0.5024449181031546\n",
      "0.50096176505405\n",
      "0.4995039746594278\n",
      "0.4980709015790273\n",
      "0.4966619225340954\n",
      "0.49527643533777954\n",
      "0.4939138579813762\n",
      "0.4925736277720123\n",
      "0.491255200517817\n",
      "0.48995804975704477\n",
      "0.48868166602797575\n",
      "0.4874255561767207\n",
      "0.4861892427003438\n",
      "0.4849722631229481\n",
      "0.48377416940258083\n",
      "0.4825945273670086\n",
      "0.4814329161765725\n",
      "0.48028892781248217\n",
      "0.4791621665890398\n",
      "0.47805224868840474\n",
      "0.47695880171660937\n",
      "0.47588146427963796\n",
      "0.47481988557846333\n",
      "0.47377372502201043\n",
      "0.47274265185709347\n",
      "0.4717263448144316\n",
      "0.47072449176990916\n",
      "0.4697367894202967\n",
      "0.4687629429727074\n",
      "0.467802665847093\n",
      "0.4668556793911418\n",
      "0.4659217126069681\n",
      "0.46500050188902076\n",
      "0.46409179077267565\n",
      "0.46319532969300203\n",
      "0.46231087575322355\n",
      "0.4614381925024207\n",
      "0.460577049722047\n",
      "0.45972722322085485\n",
      "0.458888494637845\n",
      "0.45806065125287704\n",
      "0.4572434858045988\n",
      "0.456436796315364\n",
      "0.4556403859228326\n",
      "0.45485406271795537\n",
      "0.4540776395890661\n",
      "0.4533109340718174\n",
      "0.45255376820470133\n",
      "0.4518059683899239\n",
      "0.45106736525939645\n",
      "0.4503377935456333\n",
      "0.44961709195734584\n",
      "0.448905103059536\n",
      "0.44820167315790266\n",
      "0.4475066521873814\n",
      "0.4468198936046486\n",
      "0.4461412542844251\n",
      "0.44547059441942705\n",
      "0.4448077774238138\n",
      "0.4441526698399943\n",
      "0.4435051412486543\n",
      "0.44286506418187943\n",
      "0.4422323140392482\n",
      "0.4416067690067789\n",
      "0.4409883099786198\n",
      "0.44037682048137194\n",
      "0.4397721866009464\n",
      "0.4391742969118546\n",
      "0.43858304240883966\n",
      "0.43799831644076054\n",
      "0.4374200146466399\n",
      "0.4368480348937964\n",
      "0.43628227721798224\n",
      "0.4357226437654488\n",
      "0.43516903873687374\n",
      "0.4346213683330727\n",
      "0.43407954070243704\n",
      "0.43354346589002873\n",
      "0.43301305578827654\n",
      "0.4324882240892089\n",
      "0.4319688862381764\n",
      "0.43145495938900047\n",
      "0.43094636236050626\n",
      "0.4304430155943833\n",
      "0.42994484111433023\n",
      "0.42945176248643796\n",
      "0.42896370478076645\n",
      "0.4284805945340753\n",
      "0.4280023597136651\n",
      "0.4275289296822935\n",
      "0.42706023516412817\n",
      "0.4265962082117\n",
      "0.4261367821738246\n",
      "0.42568189166445614\n",
      "0.42523147253244414\n",
      "0.4247854618321627\n",
      "0.42434379779498177\n",
      "0.4239064198015521\n",
      "0.42347326835487953\n",
      "0.4230442850541595\n",
      "0.42261941256934593\n",
      "0.4221985946164363\n",
      "0.42178177593344207\n",
      "0.42136890225702606\n",
      "0.42095992029978724\n",
      "0.4205547777281655\n",
      "0.42015342314095433\n",
      "0.41975580604839563\n",
      "0.41936187685184256\n",
      "0.4189715868239696\n",
      "0.4185848880895138\n",
      "0.4182017336065311\n",
      "0.4178220771481503\n",
      "0.41744587328480987\n",
      "0.4170730773669632\n",
      "0.4167036455082374\n",
      "0.41633753456903033\n",
      "0.4159747021405363\n",
      "0.4156151065291821\n",
      "0.41525870674146664\n",
      "0.41490546246918686\n",
      "0.41455533407504136\n",
      "0.4142082825786008\n",
      "0.4138642696426319\n",
      "0.41352325755976604\n",
      "0.41318520923950297\n",
      "0.41285008819553665\n",
      "0.4125178585333993\n",
      "0.4121884849384072\n",
      "0.4118619326639075\n",
      "0.4115381675198098\n",
      "0.4112171558613999\n",
      "0.4108988645784248\n",
      "0.41058326108444126\n",
      "0.4102703133064234\n",
      "0.40995998967461605\n",
      "0.4096522591126343\n",
      "0.4093470910277963\n",
      "0.40904445530168565\n",
      "0.40874432228093815\n",
      "0.40844666276824143\n",
      "0.40815144801354963\n",
      "0.4078586497054987\n"
     ]
    }
   ],
   "source": [
    "theta_final,costs = gradientDescent(X,y,theta,alpha,iters,lamda)"
   ]
  },
  {
   "cell_type": "code",
   "execution_count": 20,
   "metadata": {},
   "outputs": [],
   "source": [
    "def predict(X,theta):\n",
    "    \n",
    "    prob = sigmoid(X@theta)\n",
    "    \n",
    "    return [1 if x >= 0.5 else 0 for x in prob]"
   ]
  },
  {
   "cell_type": "code",
   "execution_count": 21,
   "metadata": {},
   "outputs": [
    {
     "name": "stdout",
     "output_type": "stream",
     "text": [
      "0.8135593220338984\n"
     ]
    }
   ],
   "source": [
    "y_ = np.array(predict(X,theta_final))\n",
    "y_pre = y_.reshape(len(y_),1)\n",
    "\n",
    "acc  = np.mean(y_pre == y)\n",
    "\n",
    "print(acc)"
   ]
  },
  {
   "cell_type": "code",
   "execution_count": 22,
   "metadata": {},
   "outputs": [
    {
     "data": {
      "image/png": "[encoded data removed]",
      "text/plain": [
       "<Figure size 432x288 with 1 Axes>"
      ]
     },
     "metadata": {
      "needs_background": "light"
     },
     "output_type": "display_data"
    }
   ],
   "source": [
    "x = np.linspace(-1.2,1.2,200)\n",
    "xx,yy = np.meshgrid(x,x)\n",
    "z = feature_mapping(xx.ravel(),yy.ravel(),6).values\n",
    "\n",
    "zz = z @ theta_final\n",
    "zz = zz.reshape(xx.shape)\n",
    "\n",
    "fig,ax = plt.subplots()\n",
    "ax.scatter(data[data['Accepted']==0]['Test 1'],data[data['Accepted']==0]['Test 2'],c='r',marker='x',label='y=0')\n",
    "ax.scatter(data[data['Accepted']==1]['Test 1'],data[data['Accepted']==1]['Test 2'],c='b',marker='o',label='y=1')\n",
    "ax.legend()\n",
    "ax.set(xlabel='Test1',\n",
    "          ylabel='Test2')\n",
    "\n",
    "plt.contour(xx,yy,zz,0)\n",
    "plt.show()\n"
   ]
  },
  {
   "cell_type": "code",
   "execution_count": null,
   "metadata": {},
   "outputs": [],
   "source": []
  }
 ],
 "metadata": {
  "kernelspec": {
   "display_name": "Python 3",
   "language": "python",
   "name": "python3"
  },
  "language_info": {
   "codemirror_mode": {
    "name": "ipython",
    "version": 3
   },
   "file_extension": ".py",
   "mimetype": "text/x-python",
   "name": "python",
   "nbconvert_exporter": "python",
   "pygments_lexer": "ipython3",
   "version": "3.7.3"
  }
 },
 "nbformat": 4,
 "nbformat_minor": 2
}
